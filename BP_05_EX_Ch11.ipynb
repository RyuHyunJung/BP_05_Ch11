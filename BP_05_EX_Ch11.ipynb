{
  "nbformat": 4,
  "nbformat_minor": 0,
  "metadata": {
    "colab": {
      "provenance": [],
      "authorship_tag": "ABX9TyPXdHyQfHF3JNJdRgZvrAoa",
      "include_colab_link": true
    },
    "kernelspec": {
      "name": "python3",
      "display_name": "Python 3"
    },
    "language_info": {
      "name": "python"
    }
  },
  "cells": [
    {
      "cell_type": "markdown",
      "metadata": {
        "id": "view-in-github",
        "colab_type": "text"
      },
      "source": [
        "<a href=\"https://colab.research.google.com/github/RyuHyunJung/BP_05_Ch11/blob/main/BP_05_EX_Ch11.ipynb\" target=\"_parent\"><img src=\"https://colab.research.google.com/assets/colab-badge.svg\" alt=\"Open In Colab\"/></a>"
      ]
    },
    {
      "cell_type": "code",
      "source": [
        "from google.colab import files                                 # 내 컴퓨터의 파일을 코랩에 업로드해서\n",
        "uploaded = files.upload()                                      # 처리하는 부분\n",
        "\n",
        "filename = input(\"파일 이름을 입력하세요: \").strip()           #파일명 입력하는 부분\n",
        "infile = open(filename, \"r\")                                   #텍스트 파일을 여는 부분이며, 읽기까지 진행\n",
        "count = 0                                                      #count는 0으로 초기화\n",
        "for line in infile:                                            #infile 즉, 파일에서 문자를 카운트하는 부분                                 \n",
        " for ch in line:\n",
        "  count += 1\n",
        "print(\"파일 안에는 총 \", count , \"개의 글자가 있습니다.\")      \n",
        "infile.close()                                                 # 파일을 닫는다"
      ],
      "metadata": {
        "colab": {
          "base_uri": "https://localhost:8080/",
          "height": 114
        },
        "id": "I1s7cvellD4e",
        "outputId": "7fe9c83a-3310-42b5-afd6-9f8cf0cf97f0"
      },
      "execution_count": 10,
      "outputs": [
        {
          "output_type": "display_data",
          "data": {
            "text/plain": [
              "<IPython.core.display.HTML object>"
            ],
            "text/html": [
              "\n",
              "     <input type=\"file\" id=\"files-a3c4104a-4008-4609-981a-6892b9829707\" name=\"files[]\" multiple disabled\n",
              "        style=\"border:none\" />\n",
              "     <output id=\"result-a3c4104a-4008-4609-981a-6892b9829707\">\n",
              "      Upload widget is only available when the cell has been executed in the\n",
              "      current browser session. Please rerun this cell to enable.\n",
              "      </output>\n",
              "      <script>// Copyright 2017 Google LLC\n",
              "//\n",
              "// Licensed under the Apache License, Version 2.0 (the \"License\");\n",
              "// you may not use this file except in compliance with the License.\n",
              "// You may obtain a copy of the License at\n",
              "//\n",
              "//      http://www.apache.org/licenses/LICENSE-2.0\n",
              "//\n",
              "// Unless required by applicable law or agreed to in writing, software\n",
              "// distributed under the License is distributed on an \"AS IS\" BASIS,\n",
              "// WITHOUT WARRANTIES OR CONDITIONS OF ANY KIND, either express or implied.\n",
              "// See the License for the specific language governing permissions and\n",
              "// limitations under the License.\n",
              "\n",
              "/**\n",
              " * @fileoverview Helpers for google.colab Python module.\n",
              " */\n",
              "(function(scope) {\n",
              "function span(text, styleAttributes = {}) {\n",
              "  const element = document.createElement('span');\n",
              "  element.textContent = text;\n",
              "  for (const key of Object.keys(styleAttributes)) {\n",
              "    element.style[key] = styleAttributes[key];\n",
              "  }\n",
              "  return element;\n",
              "}\n",
              "\n",
              "// Max number of bytes which will be uploaded at a time.\n",
              "const MAX_PAYLOAD_SIZE = 100 * 1024;\n",
              "\n",
              "function _uploadFiles(inputId, outputId) {\n",
              "  const steps = uploadFilesStep(inputId, outputId);\n",
              "  const outputElement = document.getElementById(outputId);\n",
              "  // Cache steps on the outputElement to make it available for the next call\n",
              "  // to uploadFilesContinue from Python.\n",
              "  outputElement.steps = steps;\n",
              "\n",
              "  return _uploadFilesContinue(outputId);\n",
              "}\n",
              "\n",
              "// This is roughly an async generator (not supported in the browser yet),\n",
              "// where there are multiple asynchronous steps and the Python side is going\n",
              "// to poll for completion of each step.\n",
              "// This uses a Promise to block the python side on completion of each step,\n",
              "// then passes the result of the previous step as the input to the next step.\n",
              "function _uploadFilesContinue(outputId) {\n",
              "  const outputElement = document.getElementById(outputId);\n",
              "  const steps = outputElement.steps;\n",
              "\n",
              "  const next = steps.next(outputElement.lastPromiseValue);\n",
              "  return Promise.resolve(next.value.promise).then((value) => {\n",
              "    // Cache the last promise value to make it available to the next\n",
              "    // step of the generator.\n",
              "    outputElement.lastPromiseValue = value;\n",
              "    return next.value.response;\n",
              "  });\n",
              "}\n",
              "\n",
              "/**\n",
              " * Generator function which is called between each async step of the upload\n",
              " * process.\n",
              " * @param {string} inputId Element ID of the input file picker element.\n",
              " * @param {string} outputId Element ID of the output display.\n",
              " * @return {!Iterable<!Object>} Iterable of next steps.\n",
              " */\n",
              "function* uploadFilesStep(inputId, outputId) {\n",
              "  const inputElement = document.getElementById(inputId);\n",
              "  inputElement.disabled = false;\n",
              "\n",
              "  const outputElement = document.getElementById(outputId);\n",
              "  outputElement.innerHTML = '';\n",
              "\n",
              "  const pickedPromise = new Promise((resolve) => {\n",
              "    inputElement.addEventListener('change', (e) => {\n",
              "      resolve(e.target.files);\n",
              "    });\n",
              "  });\n",
              "\n",
              "  const cancel = document.createElement('button');\n",
              "  inputElement.parentElement.appendChild(cancel);\n",
              "  cancel.textContent = 'Cancel upload';\n",
              "  const cancelPromise = new Promise((resolve) => {\n",
              "    cancel.onclick = () => {\n",
              "      resolve(null);\n",
              "    };\n",
              "  });\n",
              "\n",
              "  // Wait for the user to pick the files.\n",
              "  const files = yield {\n",
              "    promise: Promise.race([pickedPromise, cancelPromise]),\n",
              "    response: {\n",
              "      action: 'starting',\n",
              "    }\n",
              "  };\n",
              "\n",
              "  cancel.remove();\n",
              "\n",
              "  // Disable the input element since further picks are not allowed.\n",
              "  inputElement.disabled = true;\n",
              "\n",
              "  if (!files) {\n",
              "    return {\n",
              "      response: {\n",
              "        action: 'complete',\n",
              "      }\n",
              "    };\n",
              "  }\n",
              "\n",
              "  for (const file of files) {\n",
              "    const li = document.createElement('li');\n",
              "    li.append(span(file.name, {fontWeight: 'bold'}));\n",
              "    li.append(span(\n",
              "        `(${file.type || 'n/a'}) - ${file.size} bytes, ` +\n",
              "        `last modified: ${\n",
              "            file.lastModifiedDate ? file.lastModifiedDate.toLocaleDateString() :\n",
              "                                    'n/a'} - `));\n",
              "    const percent = span('0% done');\n",
              "    li.appendChild(percent);\n",
              "\n",
              "    outputElement.appendChild(li);\n",
              "\n",
              "    const fileDataPromise = new Promise((resolve) => {\n",
              "      const reader = new FileReader();\n",
              "      reader.onload = (e) => {\n",
              "        resolve(e.target.result);\n",
              "      };\n",
              "      reader.readAsArrayBuffer(file);\n",
              "    });\n",
              "    // Wait for the data to be ready.\n",
              "    let fileData = yield {\n",
              "      promise: fileDataPromise,\n",
              "      response: {\n",
              "        action: 'continue',\n",
              "      }\n",
              "    };\n",
              "\n",
              "    // Use a chunked sending to avoid message size limits. See b/62115660.\n",
              "    let position = 0;\n",
              "    do {\n",
              "      const length = Math.min(fileData.byteLength - position, MAX_PAYLOAD_SIZE);\n",
              "      const chunk = new Uint8Array(fileData, position, length);\n",
              "      position += length;\n",
              "\n",
              "      const base64 = btoa(String.fromCharCode.apply(null, chunk));\n",
              "      yield {\n",
              "        response: {\n",
              "          action: 'append',\n",
              "          file: file.name,\n",
              "          data: base64,\n",
              "        },\n",
              "      };\n",
              "\n",
              "      let percentDone = fileData.byteLength === 0 ?\n",
              "          100 :\n",
              "          Math.round((position / fileData.byteLength) * 100);\n",
              "      percent.textContent = `${percentDone}% done`;\n",
              "\n",
              "    } while (position < fileData.byteLength);\n",
              "  }\n",
              "\n",
              "  // All done.\n",
              "  yield {\n",
              "    response: {\n",
              "      action: 'complete',\n",
              "    }\n",
              "  };\n",
              "}\n",
              "\n",
              "scope.google = scope.google || {};\n",
              "scope.google.colab = scope.google.colab || {};\n",
              "scope.google.colab._files = {\n",
              "  _uploadFiles,\n",
              "  _uploadFilesContinue,\n",
              "};\n",
              "})(self);\n",
              "</script> "
            ]
          },
          "metadata": {}
        },
        {
          "output_type": "stream",
          "name": "stdout",
          "text": [
            "Saving 11-1.txt to 11-1 (1).txt\n",
            "파일 이름을 입력하세요: 11-1.txt\n",
            "파일 안에는 총  21 개의 글자가 있습니다.\n"
          ]
        }
      ]
    },
    {
      "cell_type": "code",
      "source": [
        "infilename = input(\"파일 이름을 입력하세요\").strip()\n",
        "infile = open(infilename, \"r\")\n",
        "file_s = infile.read()\n",
        "removed_s = input(\"삭제할 문자열을 입력하시오: \").strip()\n",
        "modified_s = file_s.replace(removed_s, \"\")               # 삭제할 문자열을 \"\"로 대체\n",
        "\n",
        "infile.close()\n",
        "outfile = open(infilename, \"w\")                         # 쓰기 형식으로 파일열기\n",
        "\n",
        "print(modified_s, file = outfile, end = \"\")\n",
        "print(\"변경된 파일이 저장되었습니다.\")\n",
        "outfile.close()"
      ],
      "metadata": {
        "colab": {
          "base_uri": "https://localhost:8080/"
        },
        "id": "nhO2-roGjxL1",
        "outputId": "e2709898-c3a6-4312-cfe8-a48246f76b3b"
      },
      "execution_count": 11,
      "outputs": [
        {
          "output_type": "stream",
          "name": "stdout",
          "text": [
            "파일 이름을 입력하세요11-1.txt\n",
            "삭제할 문자열을 입력하시오: 대한민국\n",
            "변경된 파일이 저장되었습니다.\n"
          ]
        }
      ]
    },
    {
      "cell_type": "code",
      "source": [
        "filename = input(\"입력 파일 이름: \").strip()\n",
        "infile = open(filename, \"r\")\n",
        "\n",
        "def countLine(line, counter):\n",
        "  for ch in line:\n",
        "    if ch.isalpha():                           #영문자인지를 판단\n",
        "      if ch in counter:\n",
        "        counter[ch] = counter[ch] + 1          # 같은 문자 수를 카운트\n",
        "      else:\n",
        "        counter[ch] = 1\n",
        "\n",
        "fname = input(\"입력 파일 이름: \").strip()\n",
        "infile = open(fname, \"r\")\n",
        "\n",
        "my_dict = { }\n",
        "for line in infile:\n",
        "  countLine(line, my_dict)\n",
        "\n",
        "print(my_dict)\n",
        "infile.close()"
      ],
      "metadata": {
        "colab": {
          "base_uri": "https://localhost:8080/"
        },
        "id": "fAYzNpw_qTuB",
        "outputId": "c25fde54-a2b5-40e2-9bf0-3c07af263124"
      },
      "execution_count": 17,
      "outputs": [
        {
          "output_type": "stream",
          "name": "stdout",
          "text": [
            "입력 파일 이름: 11-1.txt\n",
            "입력 파일 이름: 11-1.txt\n",
            "{'좋': 2, '은': 2, '나': 2, '라': 2, '살': 1, '기': 1, '우': 1, '리': 1}\n"
          ]
        }
      ]
    },
    {
      "cell_type": "code",
      "source": [
        "import pickle\n",
        "\n",
        "outfile = open(\"test.dat\", \"wb\")            #저장장소 설정\n",
        "pickle.dump(12, outfile)\n",
        "pickle.dump(3.14, outfile)\n",
        "pickle.dump([1, 2, 3, 4, 5], outfile)\n",
        "outfile.close()                              \n",
        "infile = open(\"test.dat\", \"rb\")              #읽을파일 지정 \n",
        "print(pickle.load(infile))\n",
        "print(pickle.load(infile))\n",
        "print(pickle.load(infile))\n",
        "infile.close()"
      ],
      "metadata": {
        "colab": {
          "base_uri": "https://localhost:8080/"
        },
        "id": "kkaphtUMrzHo",
        "outputId": "a3a7c3c4-353f-4429-c872-7bba48b97954"
      },
      "execution_count": 16,
      "outputs": [
        {
          "output_type": "stream",
          "name": "stdout",
          "text": [
            "12\n",
            "3.14\n",
            "[1, 2, 3, 4, 5]\n"
          ]
        }
      ]
    },
    {
      "cell_type": "code",
      "source": [
        "inFileName = input(\"입력 파일 이름: \")\n",
        "outFileName = input(\"출력 파일 이름: \")\n",
        "\n",
        "infile = open(inFileName, \"r\")\n",
        "outfile = open(outFileName, \"w\")\n",
        "\n",
        "total = 0.0\n",
        "count = 0\n",
        "\n",
        "line = infile.readline()\n",
        "while line != \"\" :\n",
        "  value = float(line)\n",
        "  total = total + value\n",
        "  count = count + 1\n",
        "  line = infile.readline()\n",
        "\n",
        "outfile.write(\"합계=\"+ str(total)+\"\\n\")\n",
        "\n",
        "avg = total / count\n",
        "outfile.write(\"평균=\"+ str(avg)+\"\\n\")\n",
        "\n",
        "infile.close()\n",
        "outfile.close()"
      ],
      "metadata": {
        "colab": {
          "base_uri": "https://localhost:8080/",
          "height": 288
        },
        "id": "H2MxUwyqsoR9",
        "outputId": "a6e08a39-cc67-4e73-e35b-380493bb2a20"
      },
      "execution_count": 32,
      "outputs": [
        {
          "name": "stdout",
          "output_type": "stream",
          "text": [
            "입력 파일 이름: data.txt\n",
            "출력 파일 이름: output.txt\n"
          ]
        },
        {
          "output_type": "error",
          "ename": "FileNotFoundError",
          "evalue": "ignored",
          "traceback": [
            "\u001b[0;31m---------------------------------------------------------------------------\u001b[0m",
            "\u001b[0;31mFileNotFoundError\u001b[0m                         Traceback (most recent call last)",
            "\u001b[0;32m<ipython-input-32-fe533fe16419>\u001b[0m in \u001b[0;36m<module>\u001b[0;34m\u001b[0m\n\u001b[1;32m      2\u001b[0m \u001b[0moutFileName\u001b[0m \u001b[0;34m=\u001b[0m \u001b[0minput\u001b[0m\u001b[0;34m(\u001b[0m\u001b[0;34m\"출력 파일 이름: \"\u001b[0m\u001b[0;34m)\u001b[0m\u001b[0;34m\u001b[0m\u001b[0;34m\u001b[0m\u001b[0m\n\u001b[1;32m      3\u001b[0m \u001b[0;34m\u001b[0m\u001b[0m\n\u001b[0;32m----> 4\u001b[0;31m \u001b[0minfile\u001b[0m \u001b[0;34m=\u001b[0m \u001b[0mopen\u001b[0m\u001b[0;34m(\u001b[0m\u001b[0minFileName\u001b[0m\u001b[0;34m,\u001b[0m \u001b[0;34m\"r\"\u001b[0m\u001b[0;34m)\u001b[0m\u001b[0;34m\u001b[0m\u001b[0;34m\u001b[0m\u001b[0m\n\u001b[0m\u001b[1;32m      5\u001b[0m \u001b[0moutfile\u001b[0m \u001b[0;34m=\u001b[0m \u001b[0mopen\u001b[0m\u001b[0;34m(\u001b[0m\u001b[0moutFileName\u001b[0m\u001b[0;34m,\u001b[0m \u001b[0;34m\"w\"\u001b[0m\u001b[0;34m)\u001b[0m\u001b[0;34m\u001b[0m\u001b[0;34m\u001b[0m\u001b[0m\n\u001b[1;32m      6\u001b[0m \u001b[0;34m\u001b[0m\u001b[0m\n",
            "\u001b[0;31mFileNotFoundError\u001b[0m: [Errno 2] No such file or directory: 'data.txt'"
          ]
        }
      ]
    },
    {
      "cell_type": "code",
      "source": [
        "import pickle\n",
        "from tkinter import *\n",
        "phone_book = { }\n",
        "current = 0\n",
        "name = \"\"\n",
        "phone = \"\"\n",
        "\n",
        "window = Tk()\n",
        "\n",
        "frame1 = Frame(window)\n",
        "frame1.pack()\n",
        "Label(frame1, text = \"이름 \").grid(row = 1, column = 1, sticky = W)\n",
        "nameEntry = Entry(frame1, textvariable = name, width = 30)\n",
        "nameEntry.grid(row = 1, column = 2)\n",
        "\n",
        "frame2 = Frame(window)\n",
        "frame2.pack()\n",
        "Label(frame2, text = \"전화번호\").grid(row = 1, column = 1, sticky = W)\n",
        "phoneEntry = Entry(frame2, textvariable = phone, width = 30)\n",
        "phoneEntry.grid(row = 1, column = 2)\n",
        "\n",
        "frame3 = Frame(window)\n",
        "frame3.pack()\n",
        "\n",
        "def save():\n",
        " outfile = open(\"phonebook.dat\", \"wb\")\n",
        " pickle.dump(phone_book, outfile)\n",
        " print(\"주소들이 파일에 저장되었습니다\")\n",
        " outfile.close()\n",
        "\n",
        "def load():\n",
        " infile = open(\"phonebook.dat\", \"rb\")\n",
        " phone_book = pickle.load(infile)\n",
        " infile.close()\n",
        " print(\"파일에서 주소를 읽었습니다.\")\n",
        " go_first()\n",
        "\n",
        "def add():\n",
        " phone_book[nameEntry.get()] = phoneEntry.get()\n",
        " print(phone_book)\n",
        " save()\n",
        "\n",
        "def go_first():\n",
        " global current\n",
        " current = 0\n",
        " ks = list(phone_book)\n",
        " print(phone_book)\n",
        " nameEntry.delete(0, END)\n",
        " nameEntry.insert(0, ks[current])\n",
        " phoneEntry.delete(0, END)\n",
        " phoneEntry.insert(0, phone_book[ks[current]])\n",
        "\n",
        "def go_next():\n",
        " global current\n",
        " current += 1\n",
        " ks = list(phone_book)\n",
        " nameEntry.delete(0, END)\n",
        " nameEntry.insert(0, ks[current])\n",
        " phoneEntry.delete(0, END)\n",
        " phoneEntry.insert(0, phone_book[ks[current]])\n",
        "\n",
        "def go_previous():\n",
        " print(\"구현되지 않았음\")\n",
        "\n",
        "def go_last():\n",
        " print(\"구현되지 않았음\")\n",
        "\n",
        "b1 = Button(frame3, text = \"추가\", command = add).grid(row = 1, column = 1)\n",
        "b2 = Button(frame3, text = \"처음\", command = go_first).grid(row = 1, column = 2)\n",
        "b3 = Button(frame3, text = \"다음\", command = go_next).grid(row = 1, column = 3)\n",
        "b4 = Button(frame3, text = \"이전\", command =go_previous).grid(row = 1, column = 4)\n",
        "b5 = Button(frame3, text = \"마지막\", command = go_last).grid(row = 1, column = 5)\n",
        "b6 = Button(frame3, text = \"파일 읽기\", command = load).grid(row = 1, column = 6)\n",
        "\n",
        "window.mainloop() "
      ],
      "metadata": {
        "id": "RI_LTVBuz7Pj"
      },
      "execution_count": null,
      "outputs": []
    }
  ]
}